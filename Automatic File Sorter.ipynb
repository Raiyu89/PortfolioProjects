{
 "cells": [
  {
   "cell_type": "markdown",
   "id": "d330b9ee",
   "metadata": {},
   "source": [
    "# Automatic File Sorter"
   ]
  },
  {
   "cell_type": "code",
   "execution_count": null,
   "id": "ca82a343",
   "metadata": {},
   "outputs": [],
   "source": [
    "\"\"\"\n",
    "What does this actually mean? \n",
    "So we have this folder and right now we only have six files and that's, we know, a small amount. But imagine\n",
    "we have thousands of files and we want to categorize them. So, all of our CSV files will go into a folder. All of our text \n",
    "files will go into a folder and all of our image files like this png, will also go into a separate folder. So it's going to\n",
    "categorize these things for us. So this would obviously save us a lot, a lot of time. This is something that I have actually\n",
    "used when I had thousands of different files that I was trying to categorize and I knew what kind of files they were. I\n",
    "actually used this. And so this is something that is very practical, something that we can definitely use in our real life or \n",
    "at work. \n",
    "\"\"\""
   ]
  },
  {
   "cell_type": "code",
   "execution_count": 1,
   "id": "0c48ea2b",
   "metadata": {},
   "outputs": [],
   "source": [
    "import os, shutil"
   ]
  },
  {
   "cell_type": "code",
   "execution_count": 5,
   "id": "dafecb81",
   "metadata": {},
   "outputs": [],
   "source": [
    "path = r'C:\\Users\\raiya\\Documents\\Python Tutorials\\Automatic_Sorter\\\\'"
   ]
  },
  {
   "cell_type": "code",
   "execution_count": 3,
   "id": "567c3170",
   "metadata": {},
   "outputs": [
    {
     "data": {
      "text/plain": [
       "['CSVFile.csv',\n",
       " 'FakeFile.csv',\n",
       " 'FakeFile.txt',\n",
       " 'Max.png',\n",
       " 'NewFile.tsv',\n",
       " 'NewFile.txt',\n",
       " 'Rosie.png']"
      ]
     },
     "execution_count": 3,
     "metadata": {},
     "output_type": "execute_result"
    }
   ],
   "source": [
    "\"\"\"\n",
    "# This is going to go in and it's going to look in this path right here. It's going to say, okay, I am looking at this path. We just want a list of all of these files. So it's literally creating this list for us. \n",
    "# And later it's going to be extremely helpful because later on we will be able to iterate through this list, check this file, \n",
    "# and we will probably just want to take and check this part right here. Is it a CSV file? Is it a text file? Is it a png file?\n",
    "# So we will want to take those and then kind of categorize them into folder. \n",
    "\"\"\"\n",
    "os.listdir(path) "
   ]
  },
  {
   "cell_type": "code",
   "execution_count": null,
   "id": "c9dffde5",
   "metadata": {},
   "outputs": [],
   "source": [
    "#os.makedirs(path + new_folder_name) We are not actually going to use this. That's just for example. It's kind of a syntax of what it will look like. "
   ]
  },
  {
   "cell_type": "code",
   "execution_count": 7,
   "id": "729c0123",
   "metadata": {},
   "outputs": [],
   "source": [
    "folder_names = ['CSV Files','Text Files','Image Files']\n",
    "\n",
    "#C:\\Users\\raiya\\Documents\\Python Tutorials\\Automatic_Sorter\\Image Files'\n",
    "\n",
    "for folder in folder_names:\n",
    "    if not os.path.exists(path + folder):\n",
    "        os.makedirs(path + folder)"
   ]
  },
  {
   "cell_type": "code",
   "execution_count": 8,
   "id": "1dbfe9b9",
   "metadata": {},
   "outputs": [
    {
     "data": {
      "text/plain": [
       "['CSV Files',\n",
       " 'CSVFile.csv',\n",
       " 'FakeFile.csv',\n",
       " 'FakeFile.txt',\n",
       " 'Image Files',\n",
       " 'Max.png',\n",
       " 'NewFile.tsv',\n",
       " 'NewFile.txt',\n",
       " 'Rosie.png',\n",
       " 'Text Files']"
      ]
     },
     "execution_count": 8,
     "metadata": {},
     "output_type": "execute_result"
    }
   ],
   "source": [
    "os.listdir(path)"
   ]
  },
  {
   "cell_type": "code",
   "execution_count": 9,
   "id": "aa4ac58e",
   "metadata": {},
   "outputs": [],
   "source": [
    "file_names = os.listdir(path)"
   ]
  },
  {
   "cell_type": "code",
   "execution_count": 10,
   "id": "49c3d5c8",
   "metadata": {},
   "outputs": [],
   "source": [
    "for file in file_names:\n",
    "    if \".csv\" in file and not os.path.exists(path + \"CSV Files\\\\\" + file):\n",
    "        shutil.move(path + file, path + \"CSV Files\\\\\" + file)\n",
    "    elif \".png\" in file and not os.path.exists(path + \"Image Files\\\\\" + file):\n",
    "        shutil.move(path + file, path + \"Image Files\\\\\" + file)\n",
    "    elif \".txt\" in file and not os.path.exists(path + \"Text Files\\\\\" + file):\n",
    "        shutil.move(path + file, path + \"Text Files\\\\\" + file)"
   ]
  },
  {
   "cell_type": "code",
   "execution_count": 11,
   "id": "fe74ad48",
   "metadata": {},
   "outputs": [],
   "source": [
    "# Combining all of these (above) things into one. \n",
    "\n",
    "path = r'C:\\Users\\raiya\\Documents\\Python Tutorials\\Automatic_Sorter\\\\'\n",
    "\n",
    "folder_names = ['CSV Files','Text Files','Image Files']\n",
    "\n",
    "for folder in folder_names:\n",
    "    if not os.path.exists(path + folder):\n",
    "        os.makedirs(path + folder)\n",
    "        \n",
    "file_names = os.listdir(path)\n",
    "\n",
    "for file in file_names:\n",
    "    if \".csv\" in file and not os.path.exists(path + \"CSV Files\\\\\" + file):\n",
    "        shutil.move(path + file, path + \"CSV Files\\\\\" + file)\n",
    "    elif \".png\" in file and not os.path.exists(path + \"Image Files\\\\\" + file):\n",
    "        shutil.move(path + file, path + \"Image Files\\\\\" + file)\n",
    "    elif \".txt\" in file and not os.path.exists(path + \"Text Files\\\\\" + file):\n",
    "        shutil.move(path + file, path + \"Text Files\\\\\" + file)"
   ]
  },
  {
   "cell_type": "code",
   "execution_count": null,
   "id": "e7e972bf",
   "metadata": {},
   "outputs": [],
   "source": []
  }
 ],
 "metadata": {
  "kernelspec": {
   "display_name": "Python 3 (ipykernel)",
   "language": "python",
   "name": "python3"
  },
  "language_info": {
   "codemirror_mode": {
    "name": "ipython",
    "version": 3
   },
   "file_extension": ".py",
   "mimetype": "text/x-python",
   "name": "python",
   "nbconvert_exporter": "python",
   "pygments_lexer": "ipython3",
   "version": "3.11.7"
  }
 },
 "nbformat": 4,
 "nbformat_minor": 5
}
